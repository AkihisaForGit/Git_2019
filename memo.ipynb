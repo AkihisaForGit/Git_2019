{
  "nbformat": 4,
  "nbformat_minor": 0,
  "metadata": {
    "colab": {
      "name": "memo.ipynb",
      "provenance": [],
      "collapsed_sections": [],
      "include_colab_link": true
    },
    "kernelspec": {
      "name": "python3",
      "display_name": "Python 3"
    }
  },
  "cells": [
    {
      "cell_type": "markdown",
      "metadata": {
        "id": "view-in-github",
        "colab_type": "text"
      },
      "source": [
        "<a href=\"https://colab.research.google.com/github/AkihisaForGit/Git_2019/blob/master/memo.ipynb\" target=\"_parent\"><img src=\"https://colab.research.google.com/assets/colab-badge.svg\" alt=\"Open In Colab\"/></a>"
      ]
    },
    {
      "cell_type": "markdown",
      "metadata": {
        "id": "N45FBDP2l85X",
        "colab_type": "text"
      },
      "source": [
        "# markdown\n",
        "出来た！\n",
        "\n",
        "## これをメモ用として使用する。\n",
        "\n",
        "\n",
        "---\n",
        "\n",
        "\n",
        "*   \n",
        "*   リスト項目\n",
        "\n",
        "\n",
        "\n",
        "\n"
      ]
    }
  ]
}