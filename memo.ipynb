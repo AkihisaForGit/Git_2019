{
  "nbformat": 4,
  "nbformat_minor": 0,
  "metadata": {
    "colab": {
      "name": "memo.ipynb",
      "provenance": [],
      "collapsed_sections": [],
      "include_colab_link": true
    },
    "kernelspec": {
      "name": "python3",
      "display_name": "Python 3"
    }
  },
  "cells": [
    {
      "cell_type": "markdown",
      "metadata": {
        "colab_type": "text",
        "id": "N45FBDP2l85X"
      },
      "source": [
        "# markdown\n",
        "出来た！\n",
        "\n",
        "## これをメモ用として使用する。\n",
        "\n",
        "\n",
        "---\n",
        "\n",
        "\n",
        "*   \n",
        "*   リスト項目\n",
        "\n",
        "\n",
        "* vscode の使い方をメモしたい\n",
        "\n",
        "\n",
        "\n"
      ]
    },
    {
      "cell_type": "markdown",
      "execution_count": null,
      "metadata": {},
      "outputs": [],
      "source": [
        "# 調べてマークダウン自体も練習したい\n"
      ]
    }
  ]
}