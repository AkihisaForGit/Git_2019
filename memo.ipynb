{
  "nbformat": 4,
  "nbformat_minor": 0,
  "metadata": {
    "colab": {
      "name": "memo.ipynb",
      "provenance": [],
      "collapsed_sections": [],
      "include_colab_link": true
    },
    "kernelspec": {
      "name": "python3",
      "display_name": "Python 3"
    }
  },
  "cells": [
    {
      "cell_type": "markdown",
      "metadata": {
        "colab_type": "text",
        "id": "N45FBDP2l85X"
      },
      "source": [
        "# markdown\n",
        "## markdown\n",
        "### markdown\n",
        "#### markdown\n",
        "---\n",
        "\n",
        "\n",
        "block1\n",
        "\n",
        "block2\n",
        "\n",
        "---\n",
        "Br test\n",
        "Br  \n",
        "Br\n",
        "\n",
        "---\n",
        "> 引用\n",
        "> 引用\n",
        ">> 多重引用\n",
        "\n",
        "---\n",
        "\n",
        "print 'test'\n",
        "\n",
        "\n",
        "``` print 'test'```\n",
        "\n",
        "---\n",
        "インラインコード　バッククォート`print 'test'`で囲む\n",
        "\n",
        "\n",
        "---\n",
        "    class hoge\n",
        "        def hoge\n",
        "            print 'hoge'\n",
        "        end\n",
        "    end \n",
        "\n",
        "---\n",
        "\n",
        "  　 1. \n",
        "      　                 1. list\n",
        "    1. list    \n",
        "    1. list\n",
        "1. list\n",
        "-\n",
        "\n",
        "\n",
        "\n",
        "\n",
        "\n",
        "\n"
      ]
    }
  ]
}