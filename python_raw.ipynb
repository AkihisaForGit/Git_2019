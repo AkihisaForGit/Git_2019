{
 "cells": [
  {
   "cell_type": "code",
   "execution_count": 727,
   "metadata": {},
   "outputs": [],
   "source": [
    "import rawpy, imageio"
   ]
  },
  {
   "cell_type": "code",
   "execution_count": 728,
   "metadata": {},
   "outputs": [],
   "source": [
    "raw = rawpy.imread('./pic/chart.jpg')"
   ]
  },
  {
   "cell_type": "code",
   "execution_count": 729,
   "metadata": {},
   "outputs": [],
   "source": [
    "print(raw.sizes)"
   ]
  },
  {
   "cell_type": "code",
   "execution_count": 730,
   "metadata": {},
   "outputs": [],
   "source": [
    "import numpy as np"
   ]
  },
  {
   "cell_type": "code",
   "execution_count": 731,
   "metadata": {},
   "outputs": [],
   "source": [
    "raw_array = raw.raw_image"
   ]
  },
  {
   "cell_type": "code",
   "execution_count": 732,
   "metadata": {},
   "outputs": [],
   "source": [
    "h, w = raw_array.shape\n",
    "print(h, w)"
   ]
  },
  {
   "cell_type": "code",
   "execution_count": 733,
   "metadata": {},
   "outputs": [],
   "source": [
    "import matplotlib.pyplot as plt"
   ]
  },
  {
   "cell_type": "code",
   "execution_count": 734,
   "metadata": {},
   "outputs": [],
   "source": [
    "plt.figure(figsize=(8, 8))\n",
    "\n",
    "plt.imshow(raw_array, cmap='gray')\n",
    "\n",
    "plt.title(u\"Bayer_image_raw\")\n",
    "\n",
    "plt.show()"
   ]
  },
  {
   "cell_type": "code",
   "execution_count": 735,
   "metadata": {},
   "outputs": [],
   "source": [
    "plt.figure(figsize=(8, 8))"
   ]
  },
  {
   "cell_type": "code",
   "execution_count": 736,
   "metadata": {},
   "outputs": [],
   "source": [
    "plt.imshow(raw_array[1340:1400, 2640:2700], cmap='gray')\n",
    "plt.axis('off')\n",
    "plt.title(u\"zoom_raw_img\")\n",
    "plt.show()"
   ]
  },
  {
   "cell_type": "code",
   "execution_count": 737,
   "metadata": {},
   "outputs": [],
   "source": [
    "print(raw.raw_pattern)\n"
   ]
  },
  {
   "cell_type": "code",
   "execution_count": 738,
   "metadata": {},
   "outputs": [],
   "source": [
    "# raw_arrayと同じ大きさで、３色のデータを持つnumpyの行列を作る。\n",
    "# zerosは指定された大きさの０行列を作るコマンド。\n",
    "raw_color = np.zeros((h, w, 3))\n",
    "\n",
    "# 偶数列、偶数行の画素は青なので、青チャンネル（2）にコピー。\n",
    "raw_color[0::2, 0::2, 2] = raw_array[0::2, 0::2]\n",
    "# 奇数列、偶数行の画素は緑なので、緑チャンネル（1）にコピー。\n",
    "raw_color[0::2, 1::2, 1] = raw_array[0::2, 1::2]\n",
    "# 偶数列、奇数行の画素は緑なので、緑チャンネル（1）にコピー。\n",
    "raw_color[1::2, 0::2, 1] = raw_array[1::2, 0::2]\n",
    "# 奇数列、奇数行の画素は赤なので、赤チャンネル(0）にコピー。\n",
    "raw_color[1::2, 1::2, 0] = raw_array[1::2, 1::2]\n",
    "\n",
    "# 0から1の範囲にノーマライズ\n",
    "raw_color[raw_color < 0] = 0\n",
    "raw_color = raw_color / 1024"
   ]
  },
  {
   "cell_type": "code",
   "execution_count": 739,
   "metadata": {},
   "outputs": [],
   "source": [
    "plt.figure(figsize=(8, 8))\n",
    "plt.imshow(raw_color)\n",
    "plt.axis('off')\n",
    "plt.title(u'raw_fit_color')\n",
    "plt.show()"
   ]
  },
  {
   "cell_type": "code",
   "execution_count": 740,
   "metadata": {},
   "outputs": [],
   "source": [
    "plt.figure(figsize=(8, 8))\n",
    "\n",
    "digital_gain = 4\n",
    "plt.imshow(raw_color[1340:1400, 2640:2700] * digital_gain)\n",
    "plt.axis('off')\n",
    "plt.title(u'raw_fit_color_zoom')\n",
    "plt.show()"
   ]
  },
  {
   "cell_type": "code",
   "execution_count": 741,
   "metadata": {},
   "outputs": [],
   "source": [
    "pattern = raw.raw_pattern\n",
    "pattern[pattern==3] = 1\n",
    "print(pattern)"
   ]
  },
  {
   "cell_type": "code",
   "execution_count": 742,
   "metadata": {},
   "outputs": [],
   "source": [
    "dms_img = np.zeros((h//2, w//2, 3))\n",
    "\n",
    "for y in range(0, h, 2):\n",
    "        for x in range(0, w, 2):\n",
    "                dms_img[y//2, x//2, pattern[0, 0]] += \\\n",
    "                    raw_array[y + 0, x + 0]\n",
    "                dms_img[y//2, x//2, pattern[0, 1]] += \\\n",
    "                    raw_array[y + 0, x + 1]\n",
    "                dms_img[y//2, x//2, pattern[1, 0]] += \\\n",
    "                    raw_array[y + 1, x + 0]\n",
    "                dms_img[y//2, x//2, pattern[1, 1]] += \\\n",
    "                    raw_array[y + 1, x +1]\n",
    "                dms_img[y//2, x//2, 1] /= 2"
   ]
  },
  {
   "cell_type": "code",
   "execution_count": 743,
   "metadata": {},
   "outputs": [],
   "source": [
    "dms_img[dms_img < 0] = 0\n",
    "\n",
    "dms_img /= 1024\n",
    "\n",
    "plt.figure(figsize=(8, 8))\n",
    "plt.imshow(dms_img)\n",
    "plt.axis('off')\n",
    "plt.title(u'easy_demosaic')\n",
    "plt.show()"
   ]
  },
  {
   "cell_type": "code",
   "execution_count": 744,
   "metadata": {},
   "outputs": [],
   "source": [
    "def simple_demosaic(raw_array, pattern):\n",
    "    \"\"\"\n",
    "    簡易デモザイク処理を行う。\n",
    "\n",
    "    Parameters\n",
    "    ----------\n",
    "    raw_array: numpy array\n",
    "        入力BayerRAW画像データ\n",
    "    pattern: int[2, 2]\n",
    "        ベイヤーパターン。0:赤、1:緑、2:青、3:緑。\n",
    "\n",
    "    Returns\n",
    "\n",
    "    -------\n",
    "    dms_img: numpy array\n",
    "        出力RGB画像。サイズは入力の縦横共に1/2。\n",
    "    \"\"\"\n",
    "    height, width = raw_array.shape\n",
    "    dms_img = np.zeros((height//2, width//2, 3))\n",
    "    pattern[pattern == 3] = 1\n",
    "    dms_img[:, :, pattern[0, 0]] = raw_array[0::2, 0::2]\n",
    "    dms_img[:, :, pattern[0, 1]] += raw_array[0::2, 1::2]\n",
    "    dms_img[:, :, pattern[1, 0]] += raw_array[1::2, 0::2]\n",
    "    dms_img[:, :, pattern[1, 1]] += raw_array[1::2, 1::2]\n",
    "    dms_img[:, :, 1] /= 2\n",
    "    return dms_img"
   ]
  },
  {
   "cell_type": "code",
   "execution_count": 745,
   "metadata": {},
   "outputs": [],
   "source": [
    "dms_img = simple_demosaic(raw_array, raw.raw_pattern)\n",
    "\n",
    "dms_img[dms_img < 0] = 0\n",
    "dms_img /= 1024\n",
    "\n",
    "plt.figure(figsize=(8, 8))\n",
    "plt.imshow(dms_img)\n",
    "plt.axis('off')\n",
    "plt.title(u'easy_demosaic_by_simple_demosaic')\n",
    "plt.show()"
   ]
  },
  {
   "cell_type": "code",
   "execution_count": 746,
   "metadata": {},
   "outputs": [],
   "source": [
    "wb = raw.camera_whitebalance\n",
    "print(wb)"
   ]
  },
  {
   "cell_type": "markdown",
   "execution_count": 228,
   "metadata": {},
   "outputs": [],
   "source": [
    "wb_img = raw_array.copy()\n",
    "\n",
    "pattern = raw.raw_pattern\n",
    "for y in range(0, h):\n",
    "        for x in range(0, w):\n",
    "                c = pattern[y % 2, x % 2]\n",
    "                wb_img[y, x] *= wb[c]"
   ]
  },
  {
   "cell_type": "markdown",
   "execution_count": 229,
   "metadata": {},
   "outputs": [],
   "source": [
    "dms_img = simple_demosaic(wb_img, raw.raw_pattern)\n",
    "\n",
    "dms_img /= 1024\n",
    "dms_img[dms_img < 0] = 0\n",
    "dms_img[dms_img > 1] = 1.0\n",
    "\n",
    "plt.figure(figsize=(8, 8))\n",
    "plt.imshow(dms_img)\n",
    "plt.axis('off')\n",
    "plt.title(u\"after_wb_img\")\n",
    "plt.show()"
   ]
  },
  {
   "cell_type": "code",
   "execution_count": 747,
   "metadata": {},
   "outputs": [],
   "source": [
    "def white_balance(raw_array, wb_gain, raw_colors):\n",
    "    \"\"\"\n",
    "    ホワイトバランス補正処理を行う。\n",
    "\n",
    "    Parameters\n",
    "    ----------\n",
    "    raw_array: numpy array\n",
    "        入力BayerRAW画像データ。\n",
    "    wb_gain: float[4]\n",
    "        ホワイトバランスゲイン。\n",
    "    raw_colors: int[h, w]\n",
    "        RAW画像のカラーチャンネルマトリクス。\n",
    "\n",
    "    Returns\n",
    "    -------\n",
    "    wb_img: numpy array\n",
    "        出力RAW画像。\n",
    "    \"\"\"\n",
    "    norm = wb_gain[1]\n",
    "    gain_matrix = np.zeros(raw_array.shape)\n",
    "    for color in (0, 1, 2, 3):\n",
    "        gain_matrix[raw_colors == color] = wb_gain[color] / norm\n",
    "    wb_img = raw_array * gain_matrix\n",
    "    return wb_img"
   ]
  },
  {
   "cell_type": "code",
   "execution_count": 748,
   "metadata": {},
   "outputs": [],
   "source": [
    "gain, colors = raw.camera_whitebalance, raw.raw_colors\n",
    "wb_img = white_balance(raw_array, gain, colors)"
   ]
  },
  {
   "cell_type": "code",
   "execution_count": 749,
   "metadata": {},
   "outputs": [],
   "source": [
    "dms_img = simple_demosaic(wb_img, raw.raw_pattern)\n",
    "\n",
    "dms_img /= 1024\n",
    "dms_img[dms_img < 0] = 0\n",
    "dms_img[dms_img > 1] = 1.0\n",
    "\n",
    "plt.figure(figsize=(8, 8))\n",
    "plt.imshow(dms_img)\n",
    "plt.axis('off')\n",
    "plt.title(u\"after_white_balance_func_img\")\n",
    "plt.show()"
   ]
  },
  {
   "cell_type": "code",
   "execution_count": 750,
   "metadata": {},
   "outputs": [],
   "source": [
    "blc = raw.black_level_per_channel\n",
    "print(blc)"
   ]
  },
  {
   "cell_type": "code",
   "execution_count": 751,
   "metadata": {},
   "outputs": [],
   "source": [
    "# ベイヤー配列パターンを変数に保存\n",
    "pattern = raw.raw_pattern\n",
    "\n",
    "# RAWデータを符号付き整数としてコピー。\n",
    "blc_raw = raw_array.astype('int')\n",
    "# 各画素毎に対応するブラックレベルを参照して引いていく。\n",
    "for y in range(0, h, 2):\n",
    "    for x in range(0, w, 2):\n",
    "        blc_raw[y + 0, x + 0] -= blc[pattern[0, 0]]\n",
    "        blc_raw[y + 0, x + 1] -= blc[pattern[0, 1]]\n",
    "        blc_raw[y + 1, x + 0] -= blc[pattern[1, 0]]\n",
    "        blc_raw[y + 1, x + 1] -= blc[pattern[1, 1]]"
   ]
  },
  {
   "cell_type": "code",
   "execution_count": 752,
   "metadata": {},
   "outputs": [],
   "source": [
    "print(\"ブラックレベル補正前: 最小値=\", raw_array.min(), \n",
    "      \", 最大値=\", raw_array.max())\n",
    "print(\"ブラックレベル補正後: 最小値=\", blc_raw.min(), \n",
    "      \", 最大値=\", blc_raw.max())"
   ]
  },
  {
   "cell_type": "markdown",
   "execution_count": 236,
   "metadata": {},
   "outputs": [],
   "source": [
    "# 最初に定義したwhite_balance()関数を使って、ホワイトバランス調整。\n",
    "gain, colors = raw.camera_whitebalance, raw.raw_colors\n",
    "wb_img = white_balance(blc_raw, gain, colors)\n",
    "# simple_demosaic()関数を使って、簡易デモザイク処理。\n",
    "dms_img = simple_demosaic(wb_img, raw.raw_pattern)"
   ]
  },
  {
   "cell_type": "markdown",
   "execution_count": 237,
   "metadata": {},
   "outputs": [],
   "source": [
    "# 表示\n",
    "plt.figure(figsize=(8, 8))\n",
    "# imshowでは画像は0から1.0の値をとる必用があるので、ノーマライズする。\n",
    "dms_img /= 1024\n",
    "dms_img[dms_img<0] = 0\n",
    "dms_img[dms_img>1] = 1\n",
    "# 画像表示\n",
    "plt.imshow(dms_img)\n",
    "plt.axis('off')\n",
    "plt.title(u\"after_bb_img\")\n",
    "plt.show()"
   ]
  },
  {
   "cell_type": "code",
   "execution_count": 753,
   "metadata": {},
   "outputs": [],
   "source": [
    "def black_level_correction(raw_array, blc, pattern):\n",
    "    \"\"\" \n",
    "    ブラックレベル補正処理を行う。\n",
    "    \n",
    "    Parameters\n",
    "    ----------\n",
    "    raw_array: numpy array\n",
    "        入力BayerRAW画像データ。\n",
    "    blc: float[4]\n",
    "        各カラーチャンネルごとのブラックレベル。\n",
    "    pattern: int[2, 2]\n",
    "        ベイヤーパターン。0:赤、1:緑、2:青、3:緑。\n",
    "        \n",
    "    Returns\n",
    "    -------\n",
    "    blc_raw: numpy array\n",
    "        出力RAW画像。\n",
    "    \"\"\"    \n",
    "    # 符号付き整数として入力画像をコピー\n",
    "    blc_raw = raw_array.astype('int')\n",
    "    # 各カラーチャンネル毎にブラックレベルを引く。\n",
    "    blc_raw[0::2, 0::2] -= blc[pattern[0, 0]]\n",
    "    blc_raw[0::2, 1::2] -= blc[pattern[0, 1]]\n",
    "    blc_raw[1::2, 0::2] -= blc[pattern[1, 0]]\n",
    "    blc_raw[1::2, 1::2] -= blc[pattern[1, 1]]\n",
    "    return blc_raw"
   ]
  },
  {
   "cell_type": "code",
   "execution_count": 754,
   "metadata": {},
   "outputs": [],
   "source": [
    "# 上記のblack_level_correction関数を使用してブラックレベル補正。\n",
    "blc_raw = black_level_correction(raw_array, blc, raw.raw_pattern)\n",
    "# 最初に定義したwhite_balance()関数を使って、ホワイトバランス調整。\n",
    "gain, colors = raw.camera_whitebalance, raw.raw_colors\n",
    "wb_img = white_balance(blc_raw, gain, colors)\n",
    "# simple_demosaic()関数を使って、簡易デモザイク処理。\n",
    "dms_img = simple_demosaic(wb_img, raw.raw_pattern)\n",
    "\n",
    "# 表示\n",
    "plt.figure(figsize=(8, 8))\n",
    "# imshowでは画像は0から1.0の値をとる必用があるので、ノーマライズする。\n",
    "dms_img /= 1024\n",
    "dms_img[dms_img<0] = 0\n",
    "dms_img[dms_img>1] = 1\n",
    "# 画像表示\n",
    "plt.imshow(dms_img)\n",
    "plt.axis('off')\n",
    "plt.title(u\"black_level_correction_func_img\")\n",
    "plt.show()"
   ]
  },
  {
   "cell_type": "code",
   "execution_count": 755,
   "metadata": {},
   "outputs": [],
   "source": [
    "# 0~1.0の範囲の値を0.01刻みで作る。\n",
    "xs = np.arange(0.0, 1.0, 0.01)\n",
    "# xsに対応したx^2.2の値を作る。\n",
    "ys = np.power(xs, 2.2)\n",
    "# Pyplotの機能でグラフ表示。\n",
    "plt.plot(xs, ys)\n",
    "# ｘ軸とｙ軸の範囲を0-1.0に設定。\n",
    "plt.xlim(0, 1.0)\n",
    "plt.ylim(0, 1.0)\n",
    "plt.title(u\"gamma_curve\")\n",
    "plt.xlabel(\"imput\")\n",
    "plt.ylabel(\"output\")\n",
    "plt.show()"
   ]
  },
  {
   "cell_type": "code",
   "execution_count": 756,
   "metadata": {},
   "outputs": [],
   "source": [
    "xs = np.arange(0.0, 1.0, 0.01)\n",
    "ys = np.power(xs, 1/2.2)\n",
    "plt.plot(xs, ys)\n",
    "plt.xlim(0, 1.0)\n",
    "plt.ylim(0, 1.0)\n",
    "plt.title(u\"gamma_collection_curve\")\n",
    "plt.xlabel(\"imput\")\n",
    "plt.ylabel(\"output\")\n",
    "plt.show()"
   ]
  },
  {
   "cell_type": "code",
   "execution_count": 757,
   "metadata": {},
   "outputs": [],
   "source": [
    "# raw_processからインポートしたblack_level_correction関数を使用してブラックレベル補正。\n",
    "blc, pattern = raw.black_level_per_channel, raw.raw_pattern\n",
    "blc_raw = black_level_correction(raw_array, blc, pattern)\n",
    "# raw_processからインポートしたwhite_balance()関数を使って、ホワイトバランス調整。\n",
    "gain, colors = raw.camera_whitebalance, raw.raw_colors\n",
    "wb_img = white_balance(blc_raw, gain, colors)\n",
    "# raw_processからインポートしたsimple_demosaic()関数を使って、簡易デモザイク処理。\n",
    "dms_img = simple_demosaic(wb_img, raw.raw_pattern)"
   ]
  },
  {
   "cell_type": "code",
   "execution_count": 758,
   "metadata": {},
   "outputs": [],
   "source": [
    "# 表示\n",
    "plt.figure(figsize=(8, 8))\n",
    "# imshowでは画像は0から1.0の値をとる必用があるのでノーマライズする。\n",
    "img = dms_img.copy()\n",
    "img /= 1024\n",
    "img[img<0] = 0\n",
    "img[img>1] = 1\n",
    "plt.imshow(img)\n",
    "plt.axis('off')\n",
    "plt.title(u\"befor_gamma_collection\")\n",
    "plt.show()"
   ]
  },
  {
   "cell_type": "code",
   "execution_count": 759,
   "metadata": {},
   "outputs": [],
   "source": [
    "# デモザイク後の画像をfloatタイプとしてコピー。\n",
    "gamma_img = dms_img.astype(float)\n",
    "# ガンマ関数は0-1の範囲で定義されているので、その範囲に正規化する。\n",
    "gamma_img[gamma_img < 0] = 0\n",
    "gamma_img /= gamma_img.max()\n",
    "# numpyのpower関数を使って、ガンマ関数を適用。\n",
    "gamma_img = np.power(gamma_img, 1/2.2)"
   ]
  },
  {
   "cell_type": "markdown",
   "execution_count": 316,
   "metadata": {},
   "outputs": [],
   "source": [
    "# 表示\n",
    "plt.figure(figsize=(8, 8))\n",
    "plt.imshow(gamma_img)\n",
    "plt.axis('off')\n",
    "plt.title(u\"after\")\n",
    "plt.show()"
   ]
  },
  {
   "cell_type": "code",
   "execution_count": 760,
   "metadata": {},
   "outputs": [],
   "source": [
    "def gamma_correction(gamma_img, gamma):\n",
    "    \"\"\"\n",
    "    ガンマ補正処理を行う。\n",
    "\n",
    "    Parameters\n",
    "    ----------\n",
    "    input_img: numpy array [h, w, 3]\n",
    "        入力RGB画像データ。\n",
    "        0-1の範囲で正規化されていること。\n",
    "    gamma: float\n",
    "        ガンマ補正値。通常は2.2。\n",
    "\n",
    "    Returns\n",
    "    -------\n",
    "    gamma_img: numpy array [h, 2, 3]\n",
    "        出力RGB画像。\n",
    "    \"\"\"\n",
    "    # デモザイク後の画像をfloatタイプとしてコピー。\n",
    "    gamma_img = gamma_img.copy()\n",
    "    gamma_img[gamma_img < 0] = 0\n",
    "    gamma_img[gamma_img > 1] = 1.0\n",
    "    # numpyのpower関数を使って、ガンマ関数を適用。\n",
    "    gamma_img = np.power(gamma_img, 1/gamma)\n",
    "    return gamma_img"
   ]
  },
  {
   "cell_type": "code",
   "execution_count": 761,
   "metadata": {},
   "outputs": [],
   "source": [
    "# raw_processのblack_level_correction関数を使用してブラックレベル補正。\n",
    "blc, pattern = raw.black_level_per_channel, raw.raw_pattern\n",
    "blc_raw = black_level_correction(raw_array, blc, pattern)\n",
    "# raw_processのwhite_balance()関数を使って、ホワイトバランス調整。\n",
    "gain, colors = raw.camera_whitebalance, raw.raw_colors\n",
    "wb_img = white_balance(blc_raw, gain, colors)\n",
    "# raw_processのsimple_demosaic()関数を使って、簡易デモザイク処理。\n",
    "dms_img = simple_demosaic(wb_img, raw.raw_pattern)\n",
    "# raw_processのgamma_correction()関数を使って、ガンマ補正\n",
    "gmm_img = gamma_correction(dms_img, 2.2)"
   ]
  },
  {
   "cell_type": "code",
   "execution_count": 762,
   "metadata": {},
   "outputs": [],
   "source": [
    "# 表示\n",
    "plt.figure(figsize=(8, 8))\n",
    "plt.imshow(gamma_img)\n",
    "plt.axis('off')\n",
    "plt.title(u\"result_used_modules\")\n",
    "plt.show()"
   ]
  },
  {
   "cell_type": "code",
   "execution_count": null,
   "metadata": {},
   "outputs": [],
   "source": []
  }
 ],
 "metadata": {
  "kernelspec": {
   "display_name": "Python 3",
   "language": "python",
   "name": "python3"
  },
  "language_info": {
   "codemirror_mode": {
    "name": "ipython",
    "version": 3
   },
   "file_extension": ".py",
   "mimetype": "text/x-python",
   "name": "python",
   "nbconvert_exporter": "python",
   "pygments_lexer": "ipython3",
   "version": "3.6.9"
  }
 },
 "nbformat": 4,
 "nbformat_minor": 2
}